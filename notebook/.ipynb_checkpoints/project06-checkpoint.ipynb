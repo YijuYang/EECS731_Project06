{
 "cells": [
  {
   "cell_type": "markdown",
   "metadata": {},
   "source": [
    "## Project 06"
   ]
  },
  {
   "cell_type": "markdown",
   "metadata": {},
   "source": [
    "#### Import lib\n",
    "#### using RandomForest, IsolationForest and OneClassSVM"
   ]
  },
  {
   "cell_type": "code",
   "execution_count": 1,
   "metadata": {},
   "outputs": [],
   "source": [
    "import numpy as np\n",
    "import pandas\n",
    "\n",
    "from pandas           import read_csv\n",
    "from matplotlib       import pyplot\n",
    "from matplotlib.dates import DateFormatter, WeekdayLocator, drange, RRuleLocator, YEARLY, rrulewrapper, MonthLocator\n",
    "from sklearn.pipeline import make_pipeline\n",
    "from sklearn          import preprocessing\n",
    "from sklearn.metrics  import explained_variance_score\n",
    "\n",
    "from sklearn.model_selection import train_test_split\n",
    "\n",
    "from sklearn.ensemble import RandomForestClassifier\n",
    "from sklearn.ensemble import IsolationForest\n",
    "from sklearn.svm      import OneClassSVM "
   ]
  },
  {
   "cell_type": "markdown",
   "metadata": {},
   "source": [
    "#### Loading data From dataset real tweetes aapl"
   ]
  },
  {
   "cell_type": "code",
   "execution_count": 2,
   "metadata": {},
   "outputs": [
    {
     "name": "stdout",
     "output_type": "stream",
     "text": [
      "            timestamp  value\n",
      "0 2015-02-26 21:42:53    104\n",
      "1 2015-02-26 21:47:53    100\n",
      "2 2015-02-26 21:52:53     99\n",
      "3 2015-02-26 21:57:53    154\n",
      "4 2015-02-26 22:02:53    120\n",
      "5 2015-02-26 22:07:53     90\n",
      "6 2015-02-26 22:12:53     92\n",
      "7 2015-02-26 22:17:53     71\n",
      "8 2015-02-26 22:22:53    339\n",
      "9 2015-02-26 22:27:53    178\n"
     ]
    }
   ],
   "source": [
    "dataset = pandas.read_csv('../data/realTweets/realTweets/Twitter_volume_AAPL.csv', parse_dates=['timestamp'], infer_datetime_format=True)\n",
    "print(dataset.head(10))"
   ]
  },
  {
   "cell_type": "markdown",
   "metadata": {},
   "source": [
    "#### Show data distribution via visualization"
   ]
  },
  {
   "cell_type": "code",
   "execution_count": 3,
   "metadata": {},
   "outputs": [
    {
     "data": {
      "image/png": "[encoded data removed]",
      "text/plain": [
       "<Figure size 720x360 with 1 Axes>"
      ]
     },
     "metadata": {
      "needs_background": "light"
     },
     "output_type": "display_data"
    }
   ],
   "source": [
    "dataset.plot(x='timestamp', figsize=(10,5))\n",
    "pyplot.show()"
   ]
  },
  {
   "cell_type": "markdown",
   "metadata": {},
   "source": [
    "#### Data Pre-processing \n",
    "#### We devided time information "
   ]
  },
  {
   "cell_type": "code",
   "execution_count": 4,
   "metadata": {},
   "outputs": [
    {
     "name": "stdout",
     "output_type": "stream",
     "text": [
      "   value      time        date\n",
      "0    104  21:42:53  2015-02-26\n",
      "1    100  21:47:53  2015-02-26\n",
      "2     99  21:52:53  2015-02-26\n",
      "3    154  21:57:53  2015-02-26\n",
      "4    120  22:02:53  2015-02-26\n",
      "5     90  22:07:53  2015-02-26\n",
      "6     92  22:12:53  2015-02-26\n",
      "7     71  22:17:53  2015-02-26\n",
      "8    339  22:22:53  2015-02-26\n",
      "9    178  22:27:53  2015-02-26\n"
     ]
    }
   ],
   "source": [
    "data = pandas.DataFrame()\n",
    "data['value'] = dataset.value\n",
    "data['time'] = dataset.timestamp.apply(lambda t:t.time())\n",
    "data['date'] = dataset.timestamp.apply(lambda t:t.date())\n",
    "print(data.head(10))"
   ]
  },
  {
   "cell_type": "markdown",
   "metadata": {},
   "source": [
    "#### we transform the original data into a new formate"
   ]
  },
  {
   "cell_type": "code",
   "execution_count": 5,
   "metadata": {},
   "outputs": [
    {
     "name": "stdout",
     "output_type": "stream",
     "text": [
      "   value  year  month  day  hour  minute\n",
      "0    104  2015      2   26    21      42\n",
      "1    100  2015      2   26    21      47\n",
      "2     99  2015      2   26    21      52\n",
      "3    154  2015      2   26    21      57\n",
      "4    120  2015      2   26    22       2\n",
      "5     90  2015      2   26    22       7\n",
      "6     92  2015      2   26    22      12\n",
      "7     71  2015      2   26    22      17\n",
      "8    339  2015      2   26    22      22\n",
      "9    178  2015      2   26    22      27\n"
     ]
    }
   ],
   "source": [
    "data_pre = pandas.DataFrame()\n",
    "data_pre['value'] = dataset.value\n",
    "data_pre['year'] = dataset.timestamp.apply(lambda t:t.year)\n",
    "data_pre['month'] = dataset.timestamp.apply(lambda t:t.month)\n",
    "data_pre['day'] = dataset.timestamp.apply(lambda t:t.day)\n",
    "data_pre['hour'] = dataset.timestamp.apply(lambda t:t.hour)\n",
    "data_pre['minute'] = dataset.timestamp.apply(lambda t:t.minute)\n",
    "print(data_pre.head(10))"
   ]
  },
  {
   "cell_type": "markdown",
   "metadata": {},
   "source": [
    "#### There are very few types of data in this data set, so it is difficult for us to combine them again. A good solution is to subdivide them to increase the diversity and difference of the data. For this, we split the time data into specific year, month, day, hour and minute. In this way, you can not only explore the timeliness of the data, but also observe their periodicity. For the only data, this is time-divisional."
   ]
  },
  {
   "cell_type": "markdown",
   "metadata": {},
   "source": [
    "#### We use the new data for our models.\n",
    "#### We pick up 3 different models for this project: IsolationForest, RandomForest and OneClassSVM\n",
    "#### The First one is IsolationForest"
   ]
  },
  {
   "cell_type": "markdown",
   "metadata": {},
   "source": [
    "##### initialize the model"
   ]
  },
  {
   "cell_type": "code",
   "execution_count": 6,
   "metadata": {},
   "outputs": [],
   "source": [
    "IF = IsolationForest(max_samples=100)"
   ]
  },
  {
   "cell_type": "markdown",
   "metadata": {},
   "source": [
    "##### passing data to the model"
   ]
  },
  {
   "cell_type": "code",
   "execution_count": 7,
   "metadata": {},
   "outputs": [
    {
     "name": "stderr",
     "output_type": "stream",
     "text": [
      "/Users/simonyang/Library/Python/2.7/lib/python/site-packages/sklearn/ensemble/iforest.py:213: FutureWarning: default contamination parameter 0.1 will change in version 0.22 to \"auto\". This will change the predict method behavior.\n",
      "  FutureWarning)\n",
      "/Users/simonyang/Library/Python/2.7/lib/python/site-packages/sklearn/ensemble/iforest.py:223: FutureWarning: behaviour=\"old\" is deprecated and will be removed in version 0.22. Please use behaviour=\"new\", which makes the decision_function change to match other anomaly detection algorithm API.\n",
      "  FutureWarning)\n"
     ]
    },
    {
     "data": {
      "text/plain": [
       "IsolationForest(behaviour='old', bootstrap=False, contamination='legacy',\n",
       "        max_features=1.0, max_samples=100, n_estimators=100, n_jobs=None,\n",
       "        random_state=None, verbose=0)"
      ]
     },
     "execution_count": 7,
     "metadata": {},
     "output_type": "execute_result"
    }
   ],
   "source": [
    "IF.fit(data_pre)"
   ]
  },
  {
   "cell_type": "markdown",
   "metadata": {},
   "source": [
    "##### Do prediction and make a new distribution map for bad data"
   ]
  },
  {
   "cell_type": "code",
   "execution_count": 8,
   "metadata": {},
   "outputs": [
    {
     "name": "stderr",
     "output_type": "stream",
     "text": [
      "/Users/simonyang/Library/Python/2.7/lib/python/site-packages/sklearn/ensemble/iforest.py:417: DeprecationWarning: threshold_ attribute is deprecated in 0.20 and will be removed in 0.22.\n",
      "  \" be removed in 0.22.\", DeprecationWarning)\n"
     ]
    },
    {
     "name": "stdout",
     "output_type": "stream",
     "text": [
      "   value  year  month  day  hour  minute  timestamp_int           timestamp  \\\n",
      "0    104  2015      2   26    21      42   1.424987e+09 2015-02-26 21:42:53   \n",
      "1    100  2015      2   26    21      47   1.424987e+09 2015-02-26 21:47:53   \n",
      "2     99  2015      2   26    21      52   1.424988e+09 2015-02-26 21:52:53   \n",
      "3    154  2015      2   26    21      57   1.424988e+09 2015-02-26 21:57:53   \n",
      "4    120  2015      2   26    22       2   1.424988e+09 2015-02-26 22:02:53   \n",
      "5     90  2015      2   26    22       7   1.424988e+09 2015-02-26 22:07:53   \n",
      "6     92  2015      2   26    22      12   1.424989e+09 2015-02-26 22:12:53   \n",
      "7     71  2015      2   26    22      17   1.424989e+09 2015-02-26 22:17:53   \n",
      "8    339  2015      2   26    22      22   1.424989e+09 2015-02-26 22:22:53   \n",
      "9    178  2015      2   26    22      27   1.424990e+09 2015-02-26 22:27:53   \n",
      "\n",
      "   normal0  \n",
      "0       -1  \n",
      "1       -1  \n",
      "2       -1  \n",
      "3       -1  \n",
      "4       -1  \n",
      "5       -1  \n",
      "6       -1  \n",
      "7       -1  \n",
      "8       -1  \n",
      "9       -1  \n"
     ]
    },
    {
     "data": {
      "image/png": "[encoded data removed]",
      "text/plain": [
       "<Figure size 432x288 with 1 Axes>"
      ]
     },
     "metadata": {
      "needs_background": "light"
     },
     "output_type": "display_data"
    }
   ],
   "source": [
    "# predictions\n",
    "y_pred_train = IF.predict(data_pre)\n",
    "\n",
    "data_pre['timestamp_int'] = dataset.timestamp.apply(lambda t:t.timestamp())\n",
    "data_pre['timestamp'] = dataset.timestamp\n",
    "#data_pre['timestamp'] = data_ori['timestamp'].timestamp()\n",
    "data_pre['normal0'] = y_pred_train\n",
    "print(data_pre.head(10))\n",
    "\n",
    "data_nor = data_pre[data_pre.normal0 == 1]\n",
    "data_abn = data_pre[data_pre.normal0 == -1]\n",
    "\n",
    "ax = pyplot.gca()\n",
    "data_nor.plot(x='timestamp_int', y='value', ax=ax, color='blue')\n",
    "data_abn.plot(kind='scatter', x='timestamp_int', y='value', ax = ax, marker='x', color='r')\n",
    "\n",
    "pyplot.show()"
   ]
  },
  {
   "cell_type": "markdown",
   "metadata": {},
   "source": [
    "#### Drop some useless data attribute for RandomForest"
   ]
  },
  {
   "cell_type": "code",
   "execution_count": 9,
   "metadata": {},
   "outputs": [],
   "source": [
    "data_pre = data_pre.drop(['timestamp'], axis=1)\n",
    "data_pre = data_pre.drop(['timestamp_int'], axis=1)"
   ]
  },
  {
   "cell_type": "markdown",
   "metadata": {},
   "source": [
    "##### initialize the model and\n",
    "##### passing data to the model"
   ]
  },
  {
   "cell_type": "code",
   "execution_count": 10,
   "metadata": {},
   "outputs": [
    {
     "name": "stderr",
     "output_type": "stream",
     "text": [
      "/Users/simonyang/Library/Python/2.7/lib/python/site-packages/sklearn/ensemble/forest.py:246: FutureWarning: The default value of n_estimators will change from 10 in version 0.20 to 100 in 0.22.\n",
      "  \"10 in version 0.20 to 100 in 0.22.\", FutureWarning)\n"
     ]
    },
    {
     "data": {
      "text/plain": [
       "RandomForestClassifier(bootstrap=True, class_weight=None, criterion='gini',\n",
       "            max_depth=None, max_features='auto', max_leaf_nodes=None,\n",
       "            min_impurity_decrease=0.0, min_impurity_split=None,\n",
       "            min_samples_leaf=1, min_samples_split=2,\n",
       "            min_weight_fraction_leaf=0.0, n_estimators=10, n_jobs=None,\n",
       "            oob_score=False, random_state=None, verbose=0,\n",
       "            warm_start=False)"
      ]
     },
     "execution_count": 10,
     "metadata": {},
     "output_type": "execute_result"
    }
   ],
   "source": [
    "RF = RandomForestClassifier()\n",
    "RF.fit(data_pre,y_pred_train)"
   ]
  },
  {
   "cell_type": "markdown",
   "metadata": {},
   "source": [
    "##### Do prediction and make a new distribution map for bad data"
   ]
  },
  {
   "cell_type": "code",
   "execution_count": 11,
   "metadata": {},
   "outputs": [
    {
     "name": "stdout",
     "output_type": "stream",
     "text": [
      "   value  year  month  day  hour  minute  normal0  timestamp_int  \\\n",
      "0    104  2015      2   26    21      42       -1   1.424987e+09   \n",
      "1    100  2015      2   26    21      47       -1   1.424987e+09   \n",
      "2     99  2015      2   26    21      52       -1   1.424988e+09   \n",
      "3    154  2015      2   26    21      57       -1   1.424988e+09   \n",
      "4    120  2015      2   26    22       2       -1   1.424988e+09   \n",
      "5     90  2015      2   26    22       7       -1   1.424988e+09   \n",
      "6     92  2015      2   26    22      12       -1   1.424989e+09   \n",
      "7     71  2015      2   26    22      17       -1   1.424989e+09   \n",
      "8    339  2015      2   26    22      22       -1   1.424989e+09   \n",
      "9    178  2015      2   26    22      27       -1   1.424990e+09   \n",
      "\n",
      "            timestamp  normal1  \n",
      "0 2015-02-26 21:42:53       -1  \n",
      "1 2015-02-26 21:47:53       -1  \n",
      "2 2015-02-26 21:52:53       -1  \n",
      "3 2015-02-26 21:57:53       -1  \n",
      "4 2015-02-26 22:02:53       -1  \n",
      "5 2015-02-26 22:07:53       -1  \n",
      "6 2015-02-26 22:12:53       -1  \n",
      "7 2015-02-26 22:17:53       -1  \n",
      "8 2015-02-26 22:22:53       -1  \n",
      "9 2015-02-26 22:27:53       -1  \n"
     ]
    },
    {
     "data": {
      "image/png": "[encoded data removed]",
      "text/plain": [
       "<Figure size 432x288 with 1 Axes>"
      ]
     },
     "metadata": {
      "needs_background": "light"
     },
     "output_type": "display_data"
    }
   ],
   "source": [
    "# predictions\n",
    "y_pred_train = RF.predict(data_pre)\n",
    "\n",
    "data_pre['timestamp_int'] = dataset.timestamp.apply(lambda t:t.timestamp())\n",
    "data_pre['timestamp'] = dataset.timestamp\n",
    "#data_pre['timestamp'] = data_ori['timestamp'].timestamp()\n",
    "data_pre['normal1'] = y_pred_train\n",
    "print(data_pre.head(10))\n",
    "\n",
    "data_nor = data_pre[data_pre.normal1 == 1]\n",
    "data_abn = data_pre[data_pre.normal1 == -1]\n",
    "\n",
    "ax = pyplot.gca()\n",
    "data_nor.plot(x='timestamp_int', y='value', ax=ax,color='blue',marker='o')\n",
    "data_abn.plot(kind='scatter', x='timestamp_int', y='value', ax = ax, marker='x', color='r')\n",
    "\n",
    "pyplot.show()"
   ]
  },
  {
   "cell_type": "markdown",
   "metadata": {},
   "source": [
    "#### Drop some useless data attribute for OneClassSVM"
   ]
  },
  {
   "cell_type": "code",
   "execution_count": 12,
   "metadata": {},
   "outputs": [],
   "source": [
    "data_pre = data_pre.drop(['timestamp'], axis=1)"
   ]
  },
  {
   "cell_type": "markdown",
   "metadata": {},
   "source": [
    "##### initialize the model and\n",
    "##### passing data to the model"
   ]
  },
  {
   "cell_type": "code",
   "execution_count": 13,
   "metadata": {},
   "outputs": [
    {
     "name": "stderr",
     "output_type": "stream",
     "text": [
      "/Users/simonyang/Library/Python/2.7/lib/python/site-packages/sklearn/preprocessing/data.py:645: DataConversionWarning: Data with input dtype int64, float64 were all converted to float64 by StandardScaler.\n",
      "  return self.partial_fit(X, y)\n",
      "/Users/simonyang/Library/Python/2.7/lib/python/site-packages/sklearn/base.py:464: DataConversionWarning: Data with input dtype int64, float64 were all converted to float64 by StandardScaler.\n",
      "  return self.fit(X, **fit_params).transform(X)\n",
      "/Users/simonyang/Library/Python/2.7/lib/python/site-packages/sklearn/svm/base.py:196: FutureWarning: The default value of gamma will change from 'auto' to 'scale' in version 0.22 to account better for unscaled features. Set gamma explicitly to 'auto' or 'scale' to avoid this warning.\n",
      "  \"avoid this warning.\", FutureWarning)\n"
     ]
    },
    {
     "name": "stdout",
     "output_type": "stream",
     "text": [
      "0    15752\n",
      "1      150\n",
      "Name: normal2, dtype: int64\n"
     ]
    },
    {
     "data": {
      "image/png": "[encoded data removed]",
      "text/plain": [
       "<Figure size 432x288 with 1 Axes>"
      ]
     },
     "metadata": {
      "needs_background": "light"
     },
     "output_type": "display_data"
    }
   ],
   "source": [
    "min_max_scaler = preprocessing.StandardScaler()\n",
    "np_scaled = min_max_scaler.fit_transform(data_pre)\n",
    "# train one class SVM\n",
    "model =  OneClassSVM(nu=0.95 * 0.01)\n",
    "data = pandas.DataFrame(np_scaled)\n",
    "model.fit(data)\n",
    "\n",
    "data_pre['normal2'] = pandas.Series(model.predict(data))\n",
    "data_pre['normal2'] = data_pre['normal2'].map( {1: 0, -1: 1} )\n",
    "print(data_pre['normal2'].value_counts())\n",
    "\n",
    "fig, ax = pyplot.subplots()\n",
    "\n",
    "a = data_pre.loc[data_pre['normal2'] == 1, ['timestamp_int', 'value']]\n",
    "\n",
    "ax.plot(data_pre['timestamp_int'], data_pre['value'], color='blue',marker='.',linestyle=' ')\n",
    "ax.scatter(a['timestamp_int'], a['value'], color='red',marker='x')\n",
    "pyplot.show()\n"
   ]
  },
  {
   "cell_type": "markdown",
   "metadata": {},
   "source": [
    "#### In general, SVM has a sharper electrical measurement capability than RF and IF, and performs well on many abnormal data. RF and IF are very similar to the realization of this data set, and RF is slightly better."
   ]
  },
  {
   "cell_type": "code",
   "execution_count": null,
   "metadata": {},
   "outputs": [],
   "source": []
  }
 ],
 "metadata": {
  "kernelspec": {
   "display_name": "Python 2",
   "language": "python",
   "name": "python2"
  },
  "language_info": {
   "codemirror_mode": {
    "name": "ipython",
    "version": 2
   },
   "file_extension": ".py",
   "mimetype": "text/x-python",
   "name": "python",
   "nbconvert_exporter": "python",
   "pygments_lexer": "ipython2",
   "version": "2.7.16"
  }
 },
 "nbformat": 4,
 "nbformat_minor": 2
}
